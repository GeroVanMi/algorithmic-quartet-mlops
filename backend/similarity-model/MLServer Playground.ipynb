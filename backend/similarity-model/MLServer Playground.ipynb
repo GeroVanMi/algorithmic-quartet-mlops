{
 "cells": [
  {
   "cell_type": "code",
   "execution_count": 7,
   "id": "062ed5fb-388b-4252-b9aa-2242284806b5",
   "metadata": {
    "scrolled": true
   },
   "outputs": [],
   "source": [
    "#!pip install mlserver spacy wikipedia-api\n",
    "#!python -m spacy download en_core_web_lg\n",
    "import wikipediaapi"
   ]
  },
  {
   "cell_type": "code",
   "execution_count": 1,
   "id": "baa2fcdc-cddd-45dd-b986-30c9e1ac3769",
   "metadata": {},
   "outputs": [],
   "source": [
    "from mlserver.codecs import decode_args\n",
    "\n",
    "#Note: working on windows - does not have SigKill - i have removed the values manually, only occur twice in the files.\n",
    "# Should not be a problem when working on Linux/GC later\n",
    "from mlserver import MLModel\n",
    "from typing import List\n",
    "import numpy as np\n",
    "import spacy\n",
    "import os\n",
    "\n",
    "\n",
    "class model(MLModel):\n",
    "\n",
    "    def create_model_dir(self):\n",
    "        os.mkdir('similarity_model')\n",
    "\n",
    "    async def load(self):\n",
    "        self.model = spacy.load(\"en_core_web_lg\")\n",
    "    \n",
    "    @decode_args\n",
    "    async def predict(self, docs: List[str]) -> np.ndarray:\n",
    "\n",
    "        doc1 = self.model(docs[0])\n",
    "        doc2 = self.model(docs[1])\n",
    "\n",
    "        return np.array(doc1.similarity(doc2))"
   ]
  },
  {
   "cell_type": "code",
   "execution_count": null,
   "id": "ba7f0809-182b-4e92-b24c-9c7fd7cb0d5e",
   "metadata": {},
   "outputs": [],
   "source": []
  },
  {
   "cell_type": "code",
   "execution_count": 2,
   "id": "9f81ca9c-52bc-4eac-b26b-5e85b5d3f442",
   "metadata": {},
   "outputs": [],
   "source": [
    "nlp = spacy.load(\"en_core_web_lg\")"
   ]
  },
  {
   "cell_type": "code",
   "execution_count": 8,
   "id": "90e08d6b-df63-472a-8cd5-25ca8033ebfb",
   "metadata": {},
   "outputs": [
    {
     "name": "stdout",
     "output_type": "stream",
     "text": [
      "^C\n"
     ]
    }
   ],
   "source": [
    "#note: remove add_signal_handler - raises errors that arent really ones. Commented out.\n",
    "!mlserver start similarity-model/"
   ]
  },
  {
   "cell_type": "code",
   "execution_count": null,
   "id": "ee8ec672-444f-431b-b5ba-737177fcb193",
   "metadata": {},
   "outputs": [],
   "source": []
  }
 ],
 "metadata": {
  "kernelspec": {
   "display_name": "Python 3 (ipykernel)",
   "language": "python",
   "name": "python3"
  },
  "language_info": {
   "codemirror_mode": {
    "name": "ipython",
    "version": 3
   },
   "file_extension": ".py",
   "mimetype": "text/x-python",
   "name": "python",
   "nbconvert_exporter": "python",
   "pygments_lexer": "ipython3",
   "version": "3.12.3"
  }
 },
 "nbformat": 4,
 "nbformat_minor": 5
}
