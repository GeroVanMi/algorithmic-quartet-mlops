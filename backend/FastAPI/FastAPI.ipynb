{
 "cells": [
  {
   "cell_type": "code",
   "execution_count": 9,
   "id": "e18c80c4-ed6f-4e2c-b756-91aefc1fb62b",
   "metadata": {
    "scrolled": true
   },
   "outputs": [],
   "source": [
    "# 1. Library imports\n",
    "import uvicorn\n",
    "from fastapi import FastAPI\n",
    "from model import IrisModel, IrisSpecies\n",
    "\n",
    "# 2. Create app and model objects\n",
    "app = FastAPI()\n",
    "model = IrisModel()\n",
    "\n",
    "# 3. Expose the prediction functionality, make a prediction from the passed\n",
    "#    JSON data and return the predicted flower species with the confidence\n",
    "@app.post('/predict')\n",
    "def predict_species(iris: IrisSpecies):\n",
    "    data = iris.dict()\n",
    "    prediction, probability = model.predict_species(\n",
    "        data['sepal_length'], data['sepal_width'], data['petal_length'], data['petal_width']\n",
    "    )\n",
    "    return {\n",
    "        'prediction': prediction,\n",
    "        'probability': probability\n",
    "    }\n",
    "\n",
    "\n",
    "#suggestion: just use the app.py instead. Notebook + FastAPI is funky.\n",
    "\n",
    "\n",
    "# 4. Run the API with uvicorn\n",
    "#    Will run on http://127.0.0.1:8000\n",
    "if __name__ == '__main__':\n",
    "    pass\n",
    "    uvicorn.run(app, host='127.0.0.1', port=8000)"
   ]
  },
  {
   "cell_type": "markdown",
   "id": "96b09259-ae58-42b2-80f3-84e0d11376f7",
   "metadata": {},
   "source": [
    "# Example IRIS call for prediction"
   ]
  },
  {
   "cell_type": "code",
   "execution_count": 7,
   "id": "a30edf5a-19c7-4239-ba59-6fd5b1081c85",
   "metadata": {},
   "outputs": [
    {
     "name": "stdout",
     "output_type": "stream",
     "text": [
      "b'{\"prediction\":\"Virginica\",\"probability\":0.93}'\n"
     ]
    }
   ],
   "source": [
    "import requests \n",
    "\n",
    "new_measurement = {\n",
    "    'sepal_length': 5.7,\n",
    "    'sepal_width': 3.1,\n",
    "    'petal_length': 4.9,\n",
    "    'petal_width': 2.2\n",
    "}\n",
    "\n",
    "response = requests.post('http://127.0.0.1:8000/predict', json=new_measurement)\n",
    "print(response.content)\n"
   ]
  },
  {
   "cell_type": "markdown",
   "id": "5f940d51-4fe8-48c2-bb3a-d99035df2312",
   "metadata": {},
   "source": [
    "#### Calling the prediction in the cmd\n",
    "\n",
    "curl -X POST \"http://127.0.0.1:8000/predict\" -H \"accept: application/json\" -H \"Content-Type: application/json\" -d \"{\\\"sepal_length\\\":5.7,\\\"sepal_width\\\":3.1,\\\"petal_length\\\":4.9,\\\"petal_width\\\":2.2}\"\n",
    "\n",
    "\n",
    "#### returns:\n",
    "{\"prediction\":\"Virginica\",\"probability\":0.93}"
   ]
  },
  {
   "cell_type": "code",
   "execution_count": null,
   "id": "74ff43f5-c74d-420d-96b1-cffb8fc8da0d",
   "metadata": {},
   "outputs": [],
   "source": []
  }
 ],
 "metadata": {
  "kernelspec": {
   "display_name": "Python 3 (ipykernel)",
   "language": "python",
   "name": "python3"
  },
  "language_info": {
   "codemirror_mode": {
    "name": "ipython",
    "version": 3
   },
   "file_extension": ".py",
   "mimetype": "text/x-python",
   "name": "python",
   "nbconvert_exporter": "python",
   "pygments_lexer": "ipython3",
   "version": "3.12.3"
  }
 },
 "nbformat": 4,
 "nbformat_minor": 5
}
