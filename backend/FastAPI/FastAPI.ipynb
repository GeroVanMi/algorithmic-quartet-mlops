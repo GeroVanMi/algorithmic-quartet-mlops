{
 "cells": [
  {
   "cell_type": "code",
   "execution_count": null,
   "id": "06056bf3-c6e5-4899-b2f1-d0e439736446",
   "metadata": {
    "scrolled": true
   },
   "outputs": [],
   "source": []
  },
  {
   "cell_type": "code",
   "execution_count": 1,
   "id": "e18c80c4-ed6f-4e2c-b756-91aefc1fb62b",
   "metadata": {
    "scrolled": true
   },
   "outputs": [
    {
     "name": "stderr",
     "output_type": "stream",
     "text": [
      "D:\\anaconda\\envs\\Bachelorarbeit\\lib\\site-packages\\sklearn\\base.py:376: InconsistentVersionWarning: Trying to unpickle estimator DecisionTreeClassifier from version 1.4.2 when using version 1.4.1.post1. This might lead to breaking code or invalid results. Use at your own risk. For more info please refer to:\n",
      "https://scikit-learn.org/stable/model_persistence.html#security-maintainability-limitations\n",
      "  warnings.warn(\n",
      "D:\\anaconda\\envs\\Bachelorarbeit\\lib\\site-packages\\sklearn\\base.py:376: InconsistentVersionWarning: Trying to unpickle estimator RandomForestClassifier from version 1.4.2 when using version 1.4.1.post1. This might lead to breaking code or invalid results. Use at your own risk. For more info please refer to:\n",
      "https://scikit-learn.org/stable/model_persistence.html#security-maintainability-limitations\n",
      "  warnings.warn(\n"
     ]
    }
   ],
   "source": [
    "# 1. Library imports\n",
    "import uvicorn\n",
    "from fastapi import FastAPI\n",
    "#from model import IrisModel, IrisSpecies\n",
    "from generate_images import *\n",
    "\n",
    "# 2. Create app and model objects\n",
    "app = FastAPI()\n",
    "#model = IrisModel()\n",
    "model = create_model(Configuration)\n",
    "\n",
    "# 3. Expose the prediction functionality, make a prediction from the passed\n",
    "#    JSON data and return the predicted flower species with the confidence\n",
    "\"\"\"\n",
    "@app.post('/predict')\n",
    "def predict_species(iris: IrisSpecies):\n",
    "    data = iris.dict()\n",
    "    prediction, probability = model.predict_species(\n",
    "        data['sepal_length'], data['sepal_width'], data['petal_length'], data['petal_width']\n",
    "    )\n",
    "    return {\n",
    "        'prediction': prediction,\n",
    "        'probability': probability\n",
    "    }\n",
    "\"\"\"\n",
    "@app.post('/generate_images')\n",
    "def generate_images():\n",
    "    config = Configuration()\n",
    "    accelerator = Accelerator(\n",
    "        mixed_precision=config.mixed_precision,\n",
    "        gradient_accumulation_steps=config.gradient_accumulation_steps,\n",
    "        log_with=\"tensorboard\",\n",
    "        project_dir=os.path.join(config.output_dir, \"logs\"),\n",
    "    )\n",
    "\n",
    "    image_generation_pipeline = initialize_pipeline(accelerator, config)\n",
    "\n",
    "    images = image_generation_pipeline(\n",
    "        batch_size=config.eval_batch_size,\n",
    "        generator=torch.manual_seed(config.seed),\n",
    "        num_inference_steps=config.number_of_noise_steps,\n",
    "    ).images  # type: ignore (There are multiple definitions which break the type hints)\n",
    "\n",
    "    if isinstance(images, list):\n",
    "        save_images(images)\n",
    "\n",
    "\n",
    "#suggestion: just use the app.py instead. Notebook + FastAPI is funky.\n",
    "\n",
    "\n",
    "# 4. Run the API with uvicorn\n",
    "#    Will run on http://127.0.0.1:8000\n",
    "if __name__ == '__main__':\n",
    "    pass\n",
    "    #uvicorn.run(app, host='127.0.0.1', port=8000)"
   ]
  },
  {
   "cell_type": "markdown",
   "id": "96b09259-ae58-42b2-80f3-84e0d11376f7",
   "metadata": {},
   "source": [
    "# Example IRIS call for prediction"
   ]
  },
  {
   "cell_type": "code",
   "execution_count": 2,
   "id": "a30edf5a-19c7-4239-ba59-6fd5b1081c85",
   "metadata": {},
   "outputs": [
    {
     "name": "stdout",
     "output_type": "stream",
     "text": [
      "b'null'\n"
     ]
    }
   ],
   "source": [
    "import requests \n",
    "\n",
    "new_measurement = {\n",
    "    'sepal_length': 5.7,\n",
    "    'sepal_width': 3.1,\n",
    "    'petal_length': 4.9,\n",
    "    'petal_width': 2.2\n",
    "}\n",
    "\n",
    "#response = requests.post('http://127.0.0.1:8000/predict', json=new_measurement)\n",
    "#print(response.content)\n",
    "\n",
    "response = requests.post('http://127.0.0.1:8000/generate_images')\n",
    "print(response.content)\n"
   ]
  },
  {
   "cell_type": "markdown",
   "id": "5f940d51-4fe8-48c2-bb3a-d99035df2312",
   "metadata": {},
   "source": [
    "#### Calling the prediction in the cmd\n",
    "\n",
    "curl -X POST \"http://127.0.0.1:8000/predict\" -H \"accept: application/json\" -H \"Content-Type: application/json\" -d \"{\\\"sepal_length\\\":5.7,\\\"sepal_width\\\":3.1,\\\"petal_length\\\":4.9,\\\"petal_width\\\":2.2}\"\n",
    "\n",
    "\n",
    "#### returns:\n",
    "{\"prediction\":\"Virginica\",\"probability\":0.93}\n",
    "\n",
    "curl -X POST \"http://127.0.0.1:8000/generate_images\"\n",
    "\n",
    "returns: images in the folder predictions / null after the command. "
   ]
  },
  {
   "cell_type": "code",
   "execution_count": null,
   "id": "74ff43f5-c74d-420d-96b1-cffb8fc8da0d",
   "metadata": {},
   "outputs": [],
   "source": []
  }
 ],
 "metadata": {
  "kernelspec": {
   "display_name": "Python 3 (ipykernel)",
   "language": "python",
   "name": "python3"
  },
  "language_info": {
   "codemirror_mode": {
    "name": "ipython",
    "version": 3
   },
   "file_extension": ".py",
   "mimetype": "text/x-python",
   "name": "python",
   "nbconvert_exporter": "python",
   "pygments_lexer": "ipython3",
   "version": "3.10.13"
  }
 },
 "nbformat": 4,
 "nbformat_minor": 5
}
