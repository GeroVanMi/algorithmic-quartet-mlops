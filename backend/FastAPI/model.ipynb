{
 "cells": [
  {
   "cell_type": "code",
   "execution_count": 6,
   "id": "e18c80c4-ed6f-4e2c-b756-91aefc1fb62b",
   "metadata": {
    "scrolled": true
   },
   "outputs": [],
   "source": [
    "# 1. Library imports\n",
    "import pandas as pd \n",
    "from sklearn.ensemble import RandomForestClassifier\n",
    "from pydantic import BaseModel\n",
    "import joblib\n",
    "\n",
    "\n",
    "# 2. Class which describes a single flower measurements\n",
    "class IrisSpecies(BaseModel):\n",
    "    sepal_length: float \n",
    "    sepal_width: float \n",
    "    petal_length: float \n",
    "    petal_width: float\n",
    "\n",
    "\n",
    "# 3. Class for training the model and making predictions\n",
    "class IrisModel:\n",
    "    # 6. Class constructor, loads the dataset and loads the model\n",
    "    #    if exists. If not, calls the _train_model method and \n",
    "    #    saves the model\n",
    "    def __init__(self):\n",
    "        self.df = pd.read_csv('iris.csv')\n",
    "        self.model_fname_ = 'iris_model.pkl'\n",
    "        try:\n",
    "            self.model = joblib.load(self.model_fname_)\n",
    "        except Exception as _:\n",
    "            self.model = self._train_model()\n",
    "            joblib.dump(self.model, self.model_fname_)\n",
    "        \n",
    "\n",
    "    # 4. Perform model training using the RandomForest classifier\n",
    "    def _train_model(self):\n",
    "        X = self.df.drop('species', axis=1)\n",
    "        y = self.df['species']\n",
    "        rfc = RandomForestClassifier()\n",
    "        model = rfc.fit(X, y)\n",
    "        return model\n",
    "\n",
    "\n",
    "    # 5. Make a prediction based on the user-entered data\n",
    "    #    Returns the predicted species with its respective probability\n",
    "    def predict_species(self, sepal_length, sepal_width, petal_length, petal_width):\n",
    "        data_in = [[sepal_length, sepal_width, petal_length, petal_length]]\n",
    "        prediction = self.model.predict(data_in)\n",
    "        probability = self.model.predict_proba(data_in).max()\n",
    "        return prediction[0], probability"
   ]
  },
  {
   "cell_type": "code",
   "execution_count": null,
   "id": "c6f73ec9-d19f-4665-80de-f909126d4034",
   "metadata": {},
   "outputs": [],
   "source": []
  }
 ],
 "metadata": {
  "kernelspec": {
   "display_name": "Python 3 (ipykernel)",
   "language": "python",
   "name": "python3"
  },
  "language_info": {
   "codemirror_mode": {
    "name": "ipython",
    "version": 3
   },
   "file_extension": ".py",
   "mimetype": "text/x-python",
   "name": "python",
   "nbconvert_exporter": "python",
   "pygments_lexer": "ipython3",
   "version": "3.12.3"
  }
 },
 "nbformat": 4,
 "nbformat_minor": 5
}
