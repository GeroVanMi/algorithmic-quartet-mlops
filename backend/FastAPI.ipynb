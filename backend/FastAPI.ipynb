{
 "cells": [
  {
   "cell_type": "code",
   "execution_count": null,
   "id": "06056bf3-c6e5-4899-b2f1-d0e439736446",
   "metadata": {
    "scrolled": true
   },
   "outputs": [],
   "source": [
    "!pip uninstall google.cloud"
   ]
  },
  {
   "cell_type": "code",
   "execution_count": 5,
   "id": "e18c80c4-ed6f-4e2c-b756-91aefc1fb62b",
   "metadata": {
    "scrolled": true
   },
   "outputs": [],
   "source": [
    "# 1. Library imports\n",
    "import uvicorn\n",
    "from fastapi import FastAPI\n",
    "#from model import IrisModel, IrisSpecies\n",
    "from generate_images import *\n",
    "\n",
    "# 2. Create app and model objects\n",
    "app = FastAPI()\n",
    "#model = IrisModel()\n",
    "model = create_model(Configuration)\n",
    "\n",
    "# 3. Expose the prediction functionality, make a prediction from the passed\n",
    "#    JSON data and return the predicted flower species with the confidence\n",
    "\"\"\"\n",
    "@app.post('/predict')\n",
    "def predict_species(iris: IrisSpecies):\n",
    "    data = iris.dict()\n",
    "    prediction, probability = model.predict_species(\n",
    "        data['sepal_length'], data['sepal_width'], data['petal_length'], data['petal_width']\n",
    "    )\n",
    "    return {\n",
    "        'prediction': prediction,\n",
    "        'probability': probability\n",
    "    }\n",
    "\"\"\"\n",
    "@app.post('/generate_images')\n",
    "def generate_images():\n",
    "    config = Configuration()\n",
    "    accelerator = Accelerator(\n",
    "        mixed_precision=config.mixed_precision,\n",
    "        gradient_accumulation_steps=config.gradient_accumulation_steps,\n",
    "        log_with=\"tensorboard\",\n",
    "        project_dir=os.path.join(config.output_dir, \"logs\"),\n",
    "    )\n",
    "\n",
    "    image_generation_pipeline = initialize_pipeline(accelerator, config)\n",
    "\n",
    "    images = image_generation_pipeline(\n",
    "        batch_size=config.eval_batch_size,\n",
    "        generator=torch.manual_seed(config.seed),\n",
    "        num_inference_steps=config.number_of_noise_steps,\n",
    "    ).images  # type: ignore (There are multiple definitions which break the type hints)\n",
    "\n",
    "    if isinstance(images, list):\n",
    "        save_images(images)\n",
    "\n",
    "\n",
    "#suggestion: just use the app.py instead. Notebook + FastAPI is funky.\n",
    "\n",
    "\n",
    "# 4. Run the API with uvicorn\n",
    "#    Will run on http://127.0.0.1:8000\n",
    "if __name__ == '__main__':\n",
    "    pass\n",
    "    #uvicorn.run(app, host='127.0.0.1', port=8000)"
   ]
  },
  {
   "cell_type": "code",
   "execution_count": 8,
   "id": "867a1eb8-dbc4-4726-a80a-e9247e1ecbc1",
   "metadata": {},
   "outputs": [
    {
     "name": "stdout",
     "output_type": "stream",
     "text": [
      "Collecting google-cloud-storage\n",
      "  Downloading google_cloud_storage-2.16.0-py2.py3-none-any.whl.metadata (6.1 kB)\n",
      "Requirement already satisfied: google-auth<3.0dev,>=2.26.1 in d:\\anaconda\\envs\\bachelorarbeit\\lib\\site-packages (from google-cloud-storage) (2.29.0)\n",
      "Requirement already satisfied: google-api-core<3.0.0dev,>=2.15.0 in d:\\anaconda\\envs\\bachelorarbeit\\lib\\site-packages (from google-cloud-storage) (2.19.0)\n",
      "Collecting google-cloud-core<3.0dev,>=2.3.0 (from google-cloud-storage)\n",
      "  Downloading google_cloud_core-2.4.1-py2.py3-none-any.whl.metadata (2.7 kB)\n",
      "Collecting google-resumable-media>=2.6.0 (from google-cloud-storage)\n",
      "  Downloading google_resumable_media-2.7.0-py2.py3-none-any.whl.metadata (2.2 kB)\n",
      "Requirement already satisfied: requests<3.0.0dev,>=2.18.0 in d:\\anaconda\\envs\\bachelorarbeit\\lib\\site-packages (from google-cloud-storage) (2.31.0)\n",
      "Collecting google-crc32c<2.0dev,>=1.0 (from google-cloud-storage)\n",
      "  Downloading google_crc32c-1.5.0-cp310-cp310-win_amd64.whl.metadata (2.3 kB)\n",
      "Requirement already satisfied: googleapis-common-protos<2.0.dev0,>=1.56.2 in d:\\anaconda\\envs\\bachelorarbeit\\lib\\site-packages (from google-api-core<3.0.0dev,>=2.15.0->google-cloud-storage) (1.63.0)\n",
      "Requirement already satisfied: protobuf!=3.20.0,!=3.20.1,!=4.21.0,!=4.21.1,!=4.21.2,!=4.21.3,!=4.21.4,!=4.21.5,<5.0.0.dev0,>=3.19.5 in d:\\anaconda\\envs\\bachelorarbeit\\lib\\site-packages (from google-api-core<3.0.0dev,>=2.15.0->google-cloud-storage) (4.25.3)\n",
      "Requirement already satisfied: proto-plus<2.0.0dev,>=1.22.3 in d:\\anaconda\\envs\\bachelorarbeit\\lib\\site-packages (from google-api-core<3.0.0dev,>=2.15.0->google-cloud-storage) (1.23.0)\n",
      "Requirement already satisfied: cachetools<6.0,>=2.0.0 in d:\\anaconda\\envs\\bachelorarbeit\\lib\\site-packages (from google-auth<3.0dev,>=2.26.1->google-cloud-storage) (5.3.3)\n",
      "Requirement already satisfied: pyasn1-modules>=0.2.1 in d:\\anaconda\\envs\\bachelorarbeit\\lib\\site-packages (from google-auth<3.0dev,>=2.26.1->google-cloud-storage) (0.4.0)\n",
      "Requirement already satisfied: rsa<5,>=3.1.4 in d:\\anaconda\\envs\\bachelorarbeit\\lib\\site-packages (from google-auth<3.0dev,>=2.26.1->google-cloud-storage) (4.9)\n",
      "Requirement already satisfied: charset-normalizer<4,>=2 in d:\\anaconda\\envs\\bachelorarbeit\\lib\\site-packages (from requests<3.0.0dev,>=2.18.0->google-cloud-storage) (2.0.4)\n",
      "Requirement already satisfied: idna<4,>=2.5 in d:\\anaconda\\envs\\bachelorarbeit\\lib\\site-packages (from requests<3.0.0dev,>=2.18.0->google-cloud-storage) (3.4)\n",
      "Requirement already satisfied: urllib3<3,>=1.21.1 in d:\\anaconda\\envs\\bachelorarbeit\\lib\\site-packages (from requests<3.0.0dev,>=2.18.0->google-cloud-storage) (2.1.0)\n",
      "Requirement already satisfied: certifi>=2017.4.17 in d:\\anaconda\\envs\\bachelorarbeit\\lib\\site-packages (from requests<3.0.0dev,>=2.18.0->google-cloud-storage) (2024.2.2)\n",
      "Requirement already satisfied: pyasn1<0.7.0,>=0.4.6 in d:\\anaconda\\envs\\bachelorarbeit\\lib\\site-packages (from pyasn1-modules>=0.2.1->google-auth<3.0dev,>=2.26.1->google-cloud-storage) (0.6.0)\n",
      "Downloading google_cloud_storage-2.16.0-py2.py3-none-any.whl (125 kB)\n",
      "   ---------------------------------------- 0.0/125.6 kB ? eta -:--:--\n",
      "   --- ------------------------------------ 10.2/125.6 kB ? eta -:--:--\n",
      "   ---------------------------------------- 125.6/125.6 kB 1.9 MB/s eta 0:00:00\n",
      "Downloading google_cloud_core-2.4.1-py2.py3-none-any.whl (29 kB)\n",
      "Downloading google_crc32c-1.5.0-cp310-cp310-win_amd64.whl (27 kB)\n",
      "Downloading google_resumable_media-2.7.0-py2.py3-none-any.whl (80 kB)\n",
      "   ---------------------------------------- 0.0/80.6 kB ? eta -:--:--\n",
      "   ---------------------------------------- 80.6/80.6 kB 4.4 MB/s eta 0:00:00\n",
      "Installing collected packages: google-crc32c, google-resumable-media, google-cloud-core, google-cloud-storage\n",
      "Successfully installed google-cloud-core-2.4.1 google-cloud-storage-2.16.0 google-crc32c-1.5.0 google-resumable-media-2.7.0\n"
     ]
    }
   ],
   "source": [
    "!pip install google-cloud-storage"
   ]
  },
  {
   "cell_type": "markdown",
   "id": "96b09259-ae58-42b2-80f3-84e0d11376f7",
   "metadata": {},
   "source": [
    "# Example IRIS call for prediction"
   ]
  },
  {
   "cell_type": "code",
   "execution_count": 3,
   "id": "a30edf5a-19c7-4239-ba59-6fd5b1081c85",
   "metadata": {},
   "outputs": [
    {
     "name": "stdout",
     "output_type": "stream",
     "text": [
      "b'Internal Server Error'\n"
     ]
    }
   ],
   "source": [
    "import requests \n",
    "\n",
    "new_measurement = {\n",
    "    'sepal_length': 5.7,\n",
    "    'sepal_width': 3.1,\n",
    "    'petal_length': 4.9,\n",
    "    'petal_width': 2.2\n",
    "}\n",
    "\n",
    "#response = requests.post('http://127.0.0.1:8000/predict', json=new_measurement)\n",
    "#print(response.content)\n",
    "\n",
    "response = requests.post('http://127.0.0.1:8000/generate_images')\n",
    "print(response.content)\n"
   ]
  },
  {
   "cell_type": "markdown",
   "id": "5f940d51-4fe8-48c2-bb3a-d99035df2312",
   "metadata": {},
   "source": [
    "#### Calling the prediction in the cmd\n",
    "\n",
    "curl -X POST \"http://127.0.0.1:8000/predict\" -H \"accept: application/json\" -H \"Content-Type: application/json\" -d \"{\\\"sepal_length\\\":5.7,\\\"sepal_width\\\":3.1,\\\"petal_length\\\":4.9,\\\"petal_width\\\":2.2}\"\n",
    "\n",
    "\n",
    "#### returns:\n",
    "{\"prediction\":\"Virginica\",\"probability\":0.93}\n",
    "\n",
    "curl -X POST \"http://127.0.0.1:8000/generate_images\"\n",
    "\n",
    "returns: images in the folder predictions / null after the command. "
   ]
  },
  {
   "cell_type": "code",
   "execution_count": null,
   "id": "74ff43f5-c74d-420d-96b1-cffb8fc8da0d",
   "metadata": {},
   "outputs": [],
   "source": []
  }
 ],
 "metadata": {
  "kernelspec": {
   "display_name": "Python 3 (ipykernel)",
   "language": "python",
   "name": "python3"
  },
  "language_info": {
   "codemirror_mode": {
    "name": "ipython",
    "version": 3
   },
   "file_extension": ".py",
   "mimetype": "text/x-python",
   "name": "python",
   "nbconvert_exporter": "python",
   "pygments_lexer": "ipython3",
   "version": "3.10.13"
  }
 },
 "nbformat": 4,
 "nbformat_minor": 5
}
